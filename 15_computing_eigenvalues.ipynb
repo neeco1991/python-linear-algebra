{
 "cells": [
  {
   "cell_type": "markdown",
   "id": "62e6a58e",
   "metadata": {},
   "source": [
    "# Compute eigenvalues and eigenvectors\n",
    "\n",
    "I'll spit some facts on $2 * 2$ matrices:\n",
    "\n",
    "1. The *trace* of a matrix (sum of the elements on the diagonal) is equal to the sum of its eigenvalues, and this implies: \n",
    "$$\n",
    "\\frac{1}{2}tr(\\begin{pmatrix} a & b \\\\ c & d \\end{pmatrix}) = \\frac{a + d}{2} = \\frac{\\lambda{_1} + \\lambda{_2}}{2} \\coloneqq m\n",
    "$$\n",
    "\n",
    "2. The determinant of a matrix is equal to the product of the two eigenvalues. This make sense because all the quantities here are related to how much the transformation is scaling shapes in the space:\n",
    "$$\n",
    "\\det(\\begin{pmatrix} a & b \\\\ c & d \\end{pmatrix}) = ad - bc = \\lambda{_1}\\lambda{_2} \\coloneqq p\n",
    "$$\n",
    "\n",
    "3. This is obtained by the previous two:\n",
    "$$\n",
    "\\lambda{_1}, \\lambda{_2} = m \\pm \\sqrt{m^2 - p}\n",
    "$$\n",
    "\n"
   ]
  }
 ],
 "metadata": {
  "language_info": {
   "name": "python"
  }
 },
 "nbformat": 4,
 "nbformat_minor": 5
}
