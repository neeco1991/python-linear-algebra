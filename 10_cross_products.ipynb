{
 "cells": [
  {
   "cell_type": "markdown",
   "id": "0b6fdd0d",
   "metadata": {},
   "source": [
    "# Cross Product\n",
    "\n",
    "Given 2 vectors in the Euclidian space $\\vec{v}$ and $\\vec{w}$, the cross product between $\\vec{v} \\times \\vec{w}$ them in something related to the area of the pallelogram which has $\\vec{v}$ and $\\vec{w}$ as sides.\n",
    "If $\\vec{v}$ is on the right of $\\vec{w}$, then the cross product $\\vec{v} \\times \\vec{w}$ is positive. If they are in the same direction, the cross product is null. If $\\vec{v}$ is on the left of $\\vec{w}$, then the cross product in negative. Therefore:\n",
    "\n",
    "$$\n",
    "\\vec{v} \\times \\vec{w} = -\\vec{w} \\times \\vec{v}\n",
    "$$\n",
    "\n",
    "To remember this, we can remember that $\\hat{i} \\times \\hat{j}$ is positive.\n",
    "\n",
    "In other terms, given the definition of the determinant:\n",
    "\n",
    "$$\n",
    "\\vec{v} \\times \\vec{w} = \\det(\\begin{pmatrix} \\vec{v} & \\vec{w} \\end{pmatrix})\n",
    "$$\n",
    "\n",
    "For instance, if:\n",
    "\n",
    "$$\n",
    "\\vec{v} = \\begin{pmatrix} 3 \\\\ 1 \\end{pmatrix} \\\\\n",
    "\\vec{w} = \\begin{pmatrix} 2 \\\\ -1 \\end{pmatrix} \n",
    "$$\n",
    "\n",
    "Then:\n",
    "\n",
    "$$\n",
    "\\vec{v} \\times \\vec{w} = \\det(\\begin{pmatrix} 3 & 2 \\\\ 1 & -1 \\end{pmatrix})\n",
    "$$\n",
    "\n",
    "In fact, we used the determinant to compute the *scale* of the transformation, or, in other words, how much the square having $\\hat{i}$ and $\\hat{j}$ as sides is scaled. Since that square has area 1, then the transformation is the area of the parallelogram. Using the same analogy, the determinant is negative when we switch side of the Euclidian space in the same way is negative when $\\hat{i}$ goes on the left of $\\hat{j}$.\n",
    "\n",
    "If we scale one of the two vector, then the area will be scaled by the same factor. In math terms:\n",
    "\n",
    "$$\n",
    "(k\\vec{v})\\times\\vec{w} = k(\\vec{v}\\times\\vec{w})\n",
    "$$"
   ]
  },
  {
   "cell_type": "code",
   "execution_count": 6,
   "id": "a02a2d3a",
   "metadata": {},
   "outputs": [
    {
     "name": "stderr",
     "output_type": "stream",
     "text": [
      "/tmp/ipykernel_827390/2291133144.py:11: DeprecationWarning: Arrays of 2-dimensional vectors are deprecated. Use arrays of 3-dimensional vectors instead. (deprecated in NumPy 2.0)\n",
      "  area = np.abs(np.cross(v1, v2))\n"
     ]
    },
    {
     "data": {
      "image/png": "[encoded data removed]",
      "text/plain": [
       "<Figure size 640x480 with 1 Axes>"
      ]
     },
     "metadata": {},
     "output_type": "display_data"
    }
   ],
   "source": [
    "import matplotlib.pyplot as plt\n",
    "import numpy as np\n",
    "from matplotlib.patches import Polygon\n",
    "\n",
    "# --- You can change these vectors ---\n",
    "v1 = np.array([2, 4])\n",
    "v2 = np.array([5, 1])\n",
    "# ------------------------------------\n",
    "\n",
    "# The area is the magnitude of the cross product\n",
    "area = np.abs(np.cross(v1, v2))\n",
    "\n",
    "# Calculate the vertices of the parallelogram\n",
    "origin = np.array([0, 0])\n",
    "vertex1 = v1\n",
    "vertex2 = v2\n",
    "vertex3 = v1 + v2\n",
    "\n",
    "# Create the figure and axes\n",
    "fig, ax = plt.subplots()\n",
    "\n",
    "# Plot the vectors\n",
    "ax.quiver(*origin, *v1, angles='xy', scale_units='xy', scale=1, color='r', label=f'v1 = ${v1}$')\n",
    "ax.quiver(*origin, *v2, angles='xy', scale_units='xy', scale=1, color='b', label=f'v2 = ${v2}$')\n",
    "\n",
    "# Create and add the parallelogram patch with a label\n",
    "parallelogram = Polygon([origin, vertex1, vertex3, vertex2], \n",
    "                        alpha=0.3, \n",
    "                        facecolor='g', \n",
    "                        label=f'Area = ${area}$')\n",
    "ax.add_patch(parallelogram)\n",
    "\n",
    "# Set the limits and labels\n",
    "all_vertices = np.array([origin, vertex1, vertex2, vertex3])\n",
    "x_min, y_min = np.min(all_vertices, axis=0) - 1\n",
    "x_max, y_max = np.max(all_vertices, axis=0) + 1\n",
    "ax.set_xlim([x_min, x_max])\n",
    "ax.set_ylim([y_min, y_max])\n",
    "ax.set_xlabel('X-axis')\n",
    "ax.set_ylabel('Y-axis')\n",
    "ax.set_title('Parallelogram Formed by Two Vectors')\n",
    "ax.grid(True)\n",
    "ax.set_aspect('equal', adjustable='box')\n",
    "ax.legend() # This will now include the parallelogram's label\n",
    "\n",
    "# Show the plot\n",
    "plt.show()"
   ]
  },
  {
   "cell_type": "markdown",
   "id": "41d17c71",
   "metadata": {},
   "source": [
    "\n",
    "But the cross vector is not a scalar, is a vector instead. What we have computed so far is the magnitude of the resultant vector. To compute the direction, we need to use the *right hand rule*: pointing the index finger of the right hand in the direction of the first vector, and the middle finger of the same hand in the direction of the second vector, the direction of the cross product is the same as the direction of the thumb and perpendicular to the plane identified by the two vectors.\n",
    "\n",
    "### How to compute it\n",
    "\n",
    "Suppose we have:\n",
    "\n",
    "$$\n",
    "\\vec{v} = \\begin{pmatrix} v1 \\\\ v2 \\\\ v3  \\end{pmatrix} and \\\\\n",
    "\\vec{w} = \\begin{pmatrix} w1 \\\\ w2 \\\\ w3  \\end{pmatrix}\n",
    "$$\n",
    "\n",
    "Then:\n",
    "\n",
    "$$\n",
    "\\vec{v} \\times \\vec{w} = \\det(\\begin{pmatrix} \\hat{i} & v1 & w1 \\\\ \\hat{j} & v2 & w2 \\\\ \\hat{k} & v3 & w3 \\end{pmatrix}) = \\hat{i}(v2*w3 - w2*v3) + \\hat{j}(-v1*w3 + w1*v3) + \\hat{k}(v1*w2 - w1*v2)\n",
    "$$"
   ]
  },
  {
   "cell_type": "code",
   "execution_count": 7,
   "id": "6f82976c",
   "metadata": {},
   "outputs": [
    {
     "name": "stdout",
     "output_type": "stream",
     "text": [
      "Vector 1: [1 2 3]\n",
      "Vector 2: [4 5 6]\n",
      "Cross Product: [-3  6 -3]\n"
     ]
    }
   ],
   "source": [
    "## How to cross product with numpy\n",
    "\n",
    "import numpy as np\n",
    "\n",
    "# Define two 3D vectors\n",
    "v1 = np.array([1, 2, 3])\n",
    "v2 = np.array([4, 5, 6])\n",
    "\n",
    "# Calculate the cross product\n",
    "cross_product = np.cross(v1, v2)\n",
    "\n",
    "print(f\"Vector 1: {v1}\")\n",
    "print(f\"Vector 2: {v2}\")\n",
    "print(f\"Cross Product: {cross_product}\")\n",
    "# Expected output: Cross Product: [-3  6 -3]"
   ]
  }
 ],
 "metadata": {
  "kernelspec": {
   "display_name": "python-linear-algebra",
   "language": "python",
   "name": "python3"
  },
  "language_info": {
   "codemirror_mode": {
    "name": "ipython",
    "version": 3
   },
   "file_extension": ".py",
   "mimetype": "text/x-python",
   "name": "python",
   "nbconvert_exporter": "python",
   "pygments_lexer": "ipython3",
   "version": "3.13.3"
  }
 },
 "nbformat": 4,
 "nbformat_minor": 5
}
