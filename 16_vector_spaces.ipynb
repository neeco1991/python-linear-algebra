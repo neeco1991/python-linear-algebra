{
 "cells": [
  {
   "cell_type": "markdown",
   "id": "96cd48f1",
   "metadata": {},
   "source": [
    "# Vector spaces\n",
    "\n",
    "The mathematician way to say that a transformation $L$ is linear is to say that obeys these rules:\n",
    "\n",
    "1. $L(\\vec{v} + \\vec{w}) = L(\\vec{v}) + L(\\vec{w})$\n",
    "2. $L(c\\vec{v}) = cL(\\vec{v})$\n",
    "\n",
    "giving this definition of linear transformation, we can see that also many functions are linear. For instance the derivative is linear. Many of the algebra concepts like linearity are also present in function. For instance, inner product is like the dot product, eigenfuction are like eigenvectors and so on.\n",
    "\n",
    "There are a lot of thigs in maths that are vectors-like, where we can express the same concepts we expressed in this summary. These set of objects are called *vector spaces*. In particular, every set of object $S$ on a field $k$ that has the following rules is a vector space:\n",
    "\n",
    "1. $\\vec{u} + (\\vec{v} + \\vec{w}) = (\\vec{u} + \\vec{v}) + \\vec{w} \\forall \\vec{v},\\vec{w},\\vec{u} \\in S$\n",
    "2. $\\vec{v} + \\vec{w} = \\vec{w} + \\vec{v} \\forall \\vec{v},\\vec{w} \\in S$\n",
    "3. $\\exists \\vec{0} \\in S| \\vec{0}+\\vec{v} = \\vec{v} \\forall \\vec{v} \\in S$\n",
    "4. $\\forall \\vec{v} \\in S \\exists -\\vec{v} \\in S| \\vec{v} + (-\\vec{v}) = \\vec{0}$\n",
    "5. $a(b\\vec{v}) = (ab)\\vec{v} \\forall a,b \\in K, \\vec{v} \\in S$\n",
    "6. $1\\vec{v}=\\vec{v}$\n",
    "7. $a(\\vec{v} + \\vec{w}) = a\\vec{v} + a\\vec{w}$\n",
    "8. $(a + b)\\vec{v} = a\\vec{v} + b\\vec{w}$\n",
    "\n",
    "Every set of object that respect these axioms is a vector space."
   ]
  }
 ],
 "metadata": {
  "language_info": {
   "name": "python"
  }
 },
 "nbformat": 4,
 "nbformat_minor": 5
}
